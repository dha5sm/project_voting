{
  "nbformat": 4,
  "nbformat_minor": 0,
  "metadata": {
    "colab": {
      "provenance": [],
      "include_colab_link": true
    },
    "kernelspec": {
      "name": "python3",
      "display_name": "Python 3"
    },
    "language_info": {
      "name": "python"
    }
  },
  "cells": [
    {
      "cell_type": "markdown",
      "metadata": {
        "id": "view-in-github",
        "colab_type": "text"
      },
      "source": [
        "<a href=\"https://colab.research.google.com/github/dha5sm/project_voting/blob/main/Write_up_project_voiting.ipynb\" target=\"_parent\"><img src=\"https://colab.research.google.com/assets/colab-badge.svg\" alt=\"Open In Colab\"/></a>"
      ]
    },
    {
      "cell_type": "code",
      "source": [
        "!git clone https://github.com/dha5sm/project_voting/\n",
        "\n",
        "import pandas as pd\n",
        "import numpy as np\n",
        "import os\n",
        "from functools import reduce\n",
        "from sklearn.metrics import mean_squared_error\n",
        "from sklearn.model_selection import cross_val_score\n",
        "from sklearn.neighbors import KNeighborsRegressor\n",
        "from sklearn.model_selection import train_test_split\n",
        "from sklearn.preprocessing import StandardScaler"
      ],
      "metadata": {
        "id": "wnxz2RuR6yDP",
        "outputId": "ed559d02-8358-4bdc-ab49-9f3f7aef6fb6",
        "colab": {
          "base_uri": "https://localhost:8080/"
        }
      },
      "execution_count": 39,
      "outputs": [
        {
          "output_type": "stream",
          "name": "stdout",
          "text": [
            "fatal: destination path 'project_voting' already exists and is not an empty directory.\n"
          ]
        }
      ]
    },
    {
      "cell_type": "markdown",
      "source": [
        "**Summary**"
      ],
      "metadata": {
        "id": "W35DFEM1zatg"
      }
    },
    {
      "cell_type": "markdown",
      "source": [
        "FINISH"
      ],
      "metadata": {
        "id": "LaVus5CUzavz"
      }
    },
    {
      "cell_type": "markdown",
      "source": [
        "**Data**"
      ],
      "metadata": {
        "id": "SbMfzzaQzLrL"
      }
    },
    {
      "cell_type": "markdown",
      "source": [
        "To prepare the data for analysis we first scanned over the csv files contained within the “county_data” folder. We filtered out the demographic estimates within this folder to include only those from the years 2016 - 2020. Subsequently, we then worked to combine these separate dataframes into one main demographics data frame using the ‘GISJOIN’ field. This data table included all the demographic data for each county over the time period. We then filtered this data further to include only counties with the state code VA. The result was one demographics dataframe that contained data on every county in Virginia.\n"
      ],
      "metadata": {
        "id": "8vFXxcDCzPYb"
      }
    },
    {
      "cell_type": "markdown",
      "source": [
        "Next, we worked to filter all the demographic data, selecting key fields in each county related to: Race, median household income, education status, and the frequency with which different languages are spoken at home. In consultation with the codebook, the variable names were identified and cleaned to have new, more easily understandable names.\n",
        "\n"
      ],
      "metadata": {
        "id": "7AfVX0hEzRyX"
      }
    },
    {
      "cell_type": "code",
      "source": [
        "#Getting the name of all csv files to use\n",
        "direct = './project_voting/data/county_data'\n",
        "files = []\n",
        "for file in os.listdir(direct):\n",
        "  if file.endswith(\"E.csv\"):\n",
        "    files.append(file)\n",
        "dataframes = []\n",
        "for file in files:\n",
        "  if file == \"0002_ds250_20205_county_E.csv\" or file == \"0002_ds249_20205_county_E.csv\":\n",
        "    df_cur = pd.read_csv(direct + \"/\" + file, encoding='ISO-8859-1')\n",
        "\n",
        "    df_for_va =  df_cur[df_cur['STATE'] == 'Virginia']\n",
        "\n",
        "    dataframes.append(df_for_va)"
      ],
      "metadata": {
        "id": "9dHO4jgZ6eag",
        "outputId": "6d8fb68d-5c85-4ba3-fb84-5500f2987f6e",
        "colab": {
          "base_uri": "https://localhost:8080/"
        }
      },
      "execution_count": 11,
      "outputs": [
        {
          "output_type": "stream",
          "name": "stderr",
          "text": [
            "<ipython-input-11-4d18b20433f5>:10: DtypeWarning: Columns (3,4,6,8,9,10,11,12,13,14,15,16,17,18,19,20,21,22,23,24,25,26,27,28,29,30,31,32,33,34,35,36,39,40,41,42,43,44,45,46,47,48,49,50,51,52,53,54,55,56,57,58,59,60,61,62,63,64,65,66,67,68,69,70,71,72,73,74,75,76,77,78,79,80,81,82,83,84,85,86,87,88,89,90,91,92,93,94,95,96,97,98,99,100,101,102,103,104,105,106,107,108,109,110,111,112,113,114,115,116,117,118,119,120,121,122,123,124,125,126,127,128,129,130,131,132,133,134,135,136,137,138,139,140,141,142,143,144,145,146,147,148,149,150,151,152,153,154,155,156,157,158,159,160,161,162,163,164,165,166,167,168,169,170,171,172,173,174,175,176,177,178,179,180,181,182,183,184,185,186,187,188,189,190,191,192,193,194,195,196,197,198,199,200,201,202,203,204,205,206,207,208,209,210,211,212,213,214,215,216,217,218,219,220,221,222,223,224,225,226,227,228,229,230,231,232,233,234,235,236,237,238,239,240,241,242,243,244,245,246,247,248,249,250,251,252,253,254,255,256,257,258,259,260,261,262,263,264,265,266,267,268,269,270,271,272,273,274,275,276,277,278,279,280,281,282,283,284,285,286,287,288,289,290,291,292,293,294,295,296,297,298,299,300,301,302,303,304,305,306,307,308,309,310,311,312,313,314,315,316,317,318,319,320,321,322,323,324,325,326,327,328,329,330,331,332,333,334,335,336,337,338,339,340,341,342,343,344,345,346,347,348,349,350,351,352,353,354,355,356,357,358,359,360,361,362,363,364,365,366,367,368,369,370,371,372,373,374,375,376,377,378,379,380,381,382,383,384,385,386,387,388,389,390,391,392,393,394,395,396,397,398,399,400,401,402,403,404,405,406,407,408,409,410,411,412,413,414,415,416,417,418,419,420,421,422,423,424,425,426,427,428,429,430,431,432,433,434,435,436,437,438,439,440,441,442,443,444,445,446,447,448,449,450,451,452,453,454,455,456,457,458,459,460,461,462,463,464,465,466,467,468,469,470,471,472,473,474,475,476,477,478,479,480,481,482,483,484,485,486,487,488,489,490,491,492,493,494,495,496,497,498,499,500,501,502,503,504,505,506,507,508,509,510,511,512,513,514,515,516,517,518,519,520,521,522,523,524,525,526,527,528,529,530,531,532,533,534,535,536,537,538,539,540,541,542,543,544,545,546,547,548,549,550,551,552,553,554,555,556,557,558,559,560,561,562,563,564,565,566,567,568,569,570,571,572,573,574,575,576,577,578,579,580,581,582,583,584,585,586,587,588,589,590,591,592,593,594,595,596,597,598,599,600,601,602,603,604,605,606,607,608,609,610,611,612,613,614,615,616,617,618,619,620,621,622,623,624,625,626,627,628,629,630,631,632,633,634,635,636,637,638,639,640,641,642,643,644,645,646,647,648,649,650,651,652,653,654,655,656,657,658,659,660,661,662,663,664,665,666,667,668,669,670,671,672,673,674,675,676,677,678,679,680,681,682,683,684,685,686,687,688,689,690,691,692,693,694,695,696,697,698,699,700,701,702,703,704,705,706,707,708,709,710,711,712,713,714,715,716,717,718,719,720,721,722,723,724,725,726,727,728,729,730,731,732,733,734,735,736,737,738,739,740,741,742,743,744,745,746,747,748,749,750,751,752,753,754,755,756,757,758,759,760,761,762,763,764,765,766,767,768,769,770,771,772,773,774,775,776,777,778,779,780,781,782,783,784,785,786,787,788,789,790,791,792,793,794,795,796,797,798,799,800,801,802,803,804,805,806,807,808,810,811,812,813,814,815,816,817,818,819,820,821,822,823,824,825,826,827,828,829,830,831,832,833,834,835,836,837,838,839,840,841,842,843,844,845,846,847,848,849,850,851,852,853,854,855,856,857,858,859,860,861,862,863,864,865,866,867,868,869,870,871,872,873,874,875,876,877,878,879,880,881,882,883,884,885,886,887,888,889,890,891,892,893,894,895,896,897,898,899,900,901,902,903,904,905,906,907,908,909,910,911,912,913,914,915,916,917,918,919,920,921,922,923,924,925,926,927,928,929,930,931,932,933,934,935,936,937,938,939,940,941,942,943,944,945,946,947,948,949,950,951,952,953,954,955,956,957,958,959,960,961,962,963,964,965,966,967,968,969,970,971,972,973,974,975,976,977,978,979,980,981,982,983,984,985,986,987,988,989,990,991) have mixed types. Specify dtype option on import or set low_memory=False.\n",
            "  df_cur = pd.read_csv(direct + \"/\" + file, encoding='ISO-8859-1')\n"
          ]
        }
      ]
    },
    {
      "cell_type": "code",
      "source": [
        "#Only using most recent data of VA demographics to keep managable from 2016 to 2020\n",
        "columns_keep = dataframes[0].columns\n",
        "columns_keep = columns_keep.drop('GISJOIN')\n",
        "\n",
        "df2 = dataframes[1]\n",
        "\n",
        "for col in columns_keep:\n",
        "    if col in df2:\n",
        "        df2 = df2.drop(columns=col)\n",
        "\n",
        "df_VA2020 = pd.merge(dataframes[0], df2, on='GISJOIN')\n",
        "\n",
        "#df_VA2020 contains all the demographic information for Virginia on a county by county basis for the years 2016 - 2020\n",
        "#There are some columns with NAN values but will filter based on which columns are used / looked at"
      ],
      "metadata": {
        "id": "xJT6LXd-7DgL"
      },
      "execution_count": 12,
      "outputs": []
    },
    {
      "cell_type": "markdown",
      "source": [
        "With that table in hand, we then worked to create a table with all the voting data by county in Virginia for the most recent election. This involved taking the original voting table and filtering by the most recent election. Because the same democratic and republican candidate are up for election, we determined this to be the most relevant years.\n"
      ],
      "metadata": {
        "id": "0IZUEEeyzUW2"
      }
    },
    {
      "cell_type": "code",
      "source": [
        "#Get Data and check NA count\n",
        "df_Votes = pd.read_csv(\"./project_voting/data/voting_VA.csv\")\n",
        "df_Votes.shape\n",
        "na_count = df_Votes.isna().sum()\n",
        "\n",
        "df_Votes_2020 = df_Votes[df_Votes['year'] == 2020]\n",
        "\n",
        "df_Votes_party = df_Votes_2020.pivot_table(index=\"county_name\", columns=\"party\", values=\"candidatevotes\", fill_value=0).reset_index()\n",
        "df_Votes_party.head(20)\n",
        "\n",
        "df_Votes_party.shape"
      ],
      "metadata": {
        "id": "7LCjCGa37bnT",
        "outputId": "ef4e1046-3bfb-4fcc-f7bf-59906a88bbf5",
        "colab": {
          "base_uri": "https://localhost:8080/"
        }
      },
      "execution_count": 14,
      "outputs": [
        {
          "output_type": "execute_result",
          "data": {
            "text/plain": [
              "(133, 5)"
            ]
          },
          "metadata": {},
          "execution_count": 14
        }
      ]
    },
    {
      "cell_type": "markdown",
      "source": [
        "Next, for each county in the table there were 4 rows that displayed vote count by 4 parties: Democrat, Republican, Green, and Other. We believed this data would be more usable if for every county in Virginia there was one single row, instead of four, that contained a column showcasing how many votes each party received. The pivot table operation was used to accomplish this task.\n"
      ],
      "metadata": {
        "id": "Ki24qhKRzW5O"
      }
    },
    {
      "cell_type": "code",
      "source": [
        "cols = ['DEMOCRAT','LIBERTARIAN', 'OTHER', 'REPUBLICAN' ]\n",
        "\n",
        "def convert_str(val):\n",
        "  float_n = float(val)\n",
        "  int_n = int(float_n)\n",
        "  return int_n\n",
        "\n",
        "for col in cols:\n",
        "  df_Votes_party[col] = df_Votes_party[col].apply(convert_str)\n",
        "\n",
        "#https://saturncloud.io/blog/how-to-sum-values-of-a-row-of-a-pandas-dataframe-efficiently/#:~:text=The%20most%20efficient%20way%20to,the%20values%20in%20each%20row.\n",
        "df_Votes_party['total_votes'] = df_Votes_party[ cols ].sum(axis = 1)\n",
        "\n",
        "#Check the data appears as expected\n",
        "df_Votes_party.head()"
      ],
      "metadata": {
        "id": "fhfqfRny7tNV",
        "outputId": "106098cb-901a-4673-8aa5-d9a07d9c21ed",
        "colab": {
          "base_uri": "https://localhost:8080/",
          "height": 223
        }
      },
      "execution_count": 16,
      "outputs": [
        {
          "output_type": "execute_result",
          "data": {
            "text/plain": [
              "party      county_name  DEMOCRAT  LIBERTARIAN  OTHER  REPUBLICAN  total_votes\n",
              "0             ACCOMACK      2526           62      8        3057         5653\n",
              "1            ALBEMARLE     14155          338    124        6934        21551\n",
              "2      ALEXANDRIA CITY     22080          340    238        4848        27506\n",
              "3            ALLEGHANY       747           29      4        1953         2733\n",
              "4               AMELIA       803           26      4        1796         2629"
            ],
            "text/html": [
              "\n",
              "  <div id=\"df-34cea57e-d000-4bf7-86e2-eab372b9101c\" class=\"colab-df-container\">\n",
              "    <div>\n",
              "<style scoped>\n",
              "    .dataframe tbody tr th:only-of-type {\n",
              "        vertical-align: middle;\n",
              "    }\n",
              "\n",
              "    .dataframe tbody tr th {\n",
              "        vertical-align: top;\n",
              "    }\n",
              "\n",
              "    .dataframe thead th {\n",
              "        text-align: right;\n",
              "    }\n",
              "</style>\n",
              "<table border=\"1\" class=\"dataframe\">\n",
              "  <thead>\n",
              "    <tr style=\"text-align: right;\">\n",
              "      <th>party</th>\n",
              "      <th>county_name</th>\n",
              "      <th>DEMOCRAT</th>\n",
              "      <th>LIBERTARIAN</th>\n",
              "      <th>OTHER</th>\n",
              "      <th>REPUBLICAN</th>\n",
              "      <th>total_votes</th>\n",
              "    </tr>\n",
              "  </thead>\n",
              "  <tbody>\n",
              "    <tr>\n",
              "      <th>0</th>\n",
              "      <td>ACCOMACK</td>\n",
              "      <td>2526</td>\n",
              "      <td>62</td>\n",
              "      <td>8</td>\n",
              "      <td>3057</td>\n",
              "      <td>5653</td>\n",
              "    </tr>\n",
              "    <tr>\n",
              "      <th>1</th>\n",
              "      <td>ALBEMARLE</td>\n",
              "      <td>14155</td>\n",
              "      <td>338</td>\n",
              "      <td>124</td>\n",
              "      <td>6934</td>\n",
              "      <td>21551</td>\n",
              "    </tr>\n",
              "    <tr>\n",
              "      <th>2</th>\n",
              "      <td>ALEXANDRIA CITY</td>\n",
              "      <td>22080</td>\n",
              "      <td>340</td>\n",
              "      <td>238</td>\n",
              "      <td>4848</td>\n",
              "      <td>27506</td>\n",
              "    </tr>\n",
              "    <tr>\n",
              "      <th>3</th>\n",
              "      <td>ALLEGHANY</td>\n",
              "      <td>747</td>\n",
              "      <td>29</td>\n",
              "      <td>4</td>\n",
              "      <td>1953</td>\n",
              "      <td>2733</td>\n",
              "    </tr>\n",
              "    <tr>\n",
              "      <th>4</th>\n",
              "      <td>AMELIA</td>\n",
              "      <td>803</td>\n",
              "      <td>26</td>\n",
              "      <td>4</td>\n",
              "      <td>1796</td>\n",
              "      <td>2629</td>\n",
              "    </tr>\n",
              "  </tbody>\n",
              "</table>\n",
              "</div>\n",
              "    <div class=\"colab-df-buttons\">\n",
              "\n",
              "  <div class=\"colab-df-container\">\n",
              "    <button class=\"colab-df-convert\" onclick=\"convertToInteractive('df-34cea57e-d000-4bf7-86e2-eab372b9101c')\"\n",
              "            title=\"Convert this dataframe to an interactive table.\"\n",
              "            style=\"display:none;\">\n",
              "\n",
              "  <svg xmlns=\"http://www.w3.org/2000/svg\" height=\"24px\" viewBox=\"0 -960 960 960\">\n",
              "    <path d=\"M120-120v-720h720v720H120Zm60-500h600v-160H180v160Zm220 220h160v-160H400v160Zm0 220h160v-160H400v160ZM180-400h160v-160H180v160Zm440 0h160v-160H620v160ZM180-180h160v-160H180v160Zm440 0h160v-160H620v160Z\"/>\n",
              "  </svg>\n",
              "    </button>\n",
              "\n",
              "  <style>\n",
              "    .colab-df-container {\n",
              "      display:flex;\n",
              "      gap: 12px;\n",
              "    }\n",
              "\n",
              "    .colab-df-convert {\n",
              "      background-color: #E8F0FE;\n",
              "      border: none;\n",
              "      border-radius: 50%;\n",
              "      cursor: pointer;\n",
              "      display: none;\n",
              "      fill: #1967D2;\n",
              "      height: 32px;\n",
              "      padding: 0 0 0 0;\n",
              "      width: 32px;\n",
              "    }\n",
              "\n",
              "    .colab-df-convert:hover {\n",
              "      background-color: #E2EBFA;\n",
              "      box-shadow: 0px 1px 2px rgba(60, 64, 67, 0.3), 0px 1px 3px 1px rgba(60, 64, 67, 0.15);\n",
              "      fill: #174EA6;\n",
              "    }\n",
              "\n",
              "    .colab-df-buttons div {\n",
              "      margin-bottom: 4px;\n",
              "    }\n",
              "\n",
              "    [theme=dark] .colab-df-convert {\n",
              "      background-color: #3B4455;\n",
              "      fill: #D2E3FC;\n",
              "    }\n",
              "\n",
              "    [theme=dark] .colab-df-convert:hover {\n",
              "      background-color: #434B5C;\n",
              "      box-shadow: 0px 1px 3px 1px rgba(0, 0, 0, 0.15);\n",
              "      filter: drop-shadow(0px 1px 2px rgba(0, 0, 0, 0.3));\n",
              "      fill: #FFFFFF;\n",
              "    }\n",
              "  </style>\n",
              "\n",
              "    <script>\n",
              "      const buttonEl =\n",
              "        document.querySelector('#df-34cea57e-d000-4bf7-86e2-eab372b9101c button.colab-df-convert');\n",
              "      buttonEl.style.display =\n",
              "        google.colab.kernel.accessAllowed ? 'block' : 'none';\n",
              "\n",
              "      async function convertToInteractive(key) {\n",
              "        const element = document.querySelector('#df-34cea57e-d000-4bf7-86e2-eab372b9101c');\n",
              "        const dataTable =\n",
              "          await google.colab.kernel.invokeFunction('convertToInteractive',\n",
              "                                                    [key], {});\n",
              "        if (!dataTable) return;\n",
              "\n",
              "        const docLinkHtml = 'Like what you see? Visit the ' +\n",
              "          '<a target=\"_blank\" href=https://colab.research.google.com/notebooks/data_table.ipynb>data table notebook</a>'\n",
              "          + ' to learn more about interactive tables.';\n",
              "        element.innerHTML = '';\n",
              "        dataTable['output_type'] = 'display_data';\n",
              "        await google.colab.output.renderOutput(dataTable, element);\n",
              "        const docLink = document.createElement('div');\n",
              "        docLink.innerHTML = docLinkHtml;\n",
              "        element.appendChild(docLink);\n",
              "      }\n",
              "    </script>\n",
              "  </div>\n",
              "\n",
              "\n",
              "<div id=\"df-ad06cfda-5bb3-407d-a9cc-8ff7f2aab667\">\n",
              "  <button class=\"colab-df-quickchart\" onclick=\"quickchart('df-ad06cfda-5bb3-407d-a9cc-8ff7f2aab667')\"\n",
              "            title=\"Suggest charts\"\n",
              "            style=\"display:none;\">\n",
              "\n",
              "<svg xmlns=\"http://www.w3.org/2000/svg\" height=\"24px\"viewBox=\"0 0 24 24\"\n",
              "     width=\"24px\">\n",
              "    <g>\n",
              "        <path d=\"M19 3H5c-1.1 0-2 .9-2 2v14c0 1.1.9 2 2 2h14c1.1 0 2-.9 2-2V5c0-1.1-.9-2-2-2zM9 17H7v-7h2v7zm4 0h-2V7h2v10zm4 0h-2v-4h2v4z\"/>\n",
              "    </g>\n",
              "</svg>\n",
              "  </button>\n",
              "\n",
              "<style>\n",
              "  .colab-df-quickchart {\n",
              "      --bg-color: #E8F0FE;\n",
              "      --fill-color: #1967D2;\n",
              "      --hover-bg-color: #E2EBFA;\n",
              "      --hover-fill-color: #174EA6;\n",
              "      --disabled-fill-color: #AAA;\n",
              "      --disabled-bg-color: #DDD;\n",
              "  }\n",
              "\n",
              "  [theme=dark] .colab-df-quickchart {\n",
              "      --bg-color: #3B4455;\n",
              "      --fill-color: #D2E3FC;\n",
              "      --hover-bg-color: #434B5C;\n",
              "      --hover-fill-color: #FFFFFF;\n",
              "      --disabled-bg-color: #3B4455;\n",
              "      --disabled-fill-color: #666;\n",
              "  }\n",
              "\n",
              "  .colab-df-quickchart {\n",
              "    background-color: var(--bg-color);\n",
              "    border: none;\n",
              "    border-radius: 50%;\n",
              "    cursor: pointer;\n",
              "    display: none;\n",
              "    fill: var(--fill-color);\n",
              "    height: 32px;\n",
              "    padding: 0;\n",
              "    width: 32px;\n",
              "  }\n",
              "\n",
              "  .colab-df-quickchart:hover {\n",
              "    background-color: var(--hover-bg-color);\n",
              "    box-shadow: 0 1px 2px rgba(60, 64, 67, 0.3), 0 1px 3px 1px rgba(60, 64, 67, 0.15);\n",
              "    fill: var(--button-hover-fill-color);\n",
              "  }\n",
              "\n",
              "  .colab-df-quickchart-complete:disabled,\n",
              "  .colab-df-quickchart-complete:disabled:hover {\n",
              "    background-color: var(--disabled-bg-color);\n",
              "    fill: var(--disabled-fill-color);\n",
              "    box-shadow: none;\n",
              "  }\n",
              "\n",
              "  .colab-df-spinner {\n",
              "    border: 2px solid var(--fill-color);\n",
              "    border-color: transparent;\n",
              "    border-bottom-color: var(--fill-color);\n",
              "    animation:\n",
              "      spin 1s steps(1) infinite;\n",
              "  }\n",
              "\n",
              "  @keyframes spin {\n",
              "    0% {\n",
              "      border-color: transparent;\n",
              "      border-bottom-color: var(--fill-color);\n",
              "      border-left-color: var(--fill-color);\n",
              "    }\n",
              "    20% {\n",
              "      border-color: transparent;\n",
              "      border-left-color: var(--fill-color);\n",
              "      border-top-color: var(--fill-color);\n",
              "    }\n",
              "    30% {\n",
              "      border-color: transparent;\n",
              "      border-left-color: var(--fill-color);\n",
              "      border-top-color: var(--fill-color);\n",
              "      border-right-color: var(--fill-color);\n",
              "    }\n",
              "    40% {\n",
              "      border-color: transparent;\n",
              "      border-right-color: var(--fill-color);\n",
              "      border-top-color: var(--fill-color);\n",
              "    }\n",
              "    60% {\n",
              "      border-color: transparent;\n",
              "      border-right-color: var(--fill-color);\n",
              "    }\n",
              "    80% {\n",
              "      border-color: transparent;\n",
              "      border-right-color: var(--fill-color);\n",
              "      border-bottom-color: var(--fill-color);\n",
              "    }\n",
              "    90% {\n",
              "      border-color: transparent;\n",
              "      border-bottom-color: var(--fill-color);\n",
              "    }\n",
              "  }\n",
              "</style>\n",
              "\n",
              "  <script>\n",
              "    async function quickchart(key) {\n",
              "      const quickchartButtonEl =\n",
              "        document.querySelector('#' + key + ' button');\n",
              "      quickchartButtonEl.disabled = true;  // To prevent multiple clicks.\n",
              "      quickchartButtonEl.classList.add('colab-df-spinner');\n",
              "      try {\n",
              "        const charts = await google.colab.kernel.invokeFunction(\n",
              "            'suggestCharts', [key], {});\n",
              "      } catch (error) {\n",
              "        console.error('Error during call to suggestCharts:', error);\n",
              "      }\n",
              "      quickchartButtonEl.classList.remove('colab-df-spinner');\n",
              "      quickchartButtonEl.classList.add('colab-df-quickchart-complete');\n",
              "    }\n",
              "    (() => {\n",
              "      let quickchartButtonEl =\n",
              "        document.querySelector('#df-ad06cfda-5bb3-407d-a9cc-8ff7f2aab667 button');\n",
              "      quickchartButtonEl.style.display =\n",
              "        google.colab.kernel.accessAllowed ? 'block' : 'none';\n",
              "    })();\n",
              "  </script>\n",
              "</div>\n",
              "\n",
              "    </div>\n",
              "  </div>\n"
            ],
            "application/vnd.google.colaboratory.intrinsic+json": {
              "type": "dataframe",
              "variable_name": "df_Votes_party",
              "summary": "{\n  \"name\": \"df_Votes_party\",\n  \"rows\": 133,\n  \"fields\": [\n    {\n      \"column\": \"county_name\",\n      \"properties\": {\n        \"dtype\": \"string\",\n        \"num_unique_values\": 133,\n        \"samples\": [\n          \"GRAYSON\",\n          \"LEXINGTON CITY\",\n          \"CUMBERLAND\"\n        ],\n        \"semantic_type\": \"\",\n        \"description\": \"\"\n      }\n    },\n    {\n      \"column\": \"DEMOCRAT\",\n      \"properties\": {\n        \"dtype\": \"number\",\n        \"std\": 14870,\n        \"min\": 139,\n        \"max\": 139981,\n        \"num_unique_values\": 130,\n        \"samples\": [\n          15406,\n          5855,\n          2552\n        ],\n        \"semantic_type\": \"\",\n        \"description\": \"\"\n      }\n    },\n    {\n      \"column\": \"LIBERTARIAN\",\n      \"properties\": {\n        \"dtype\": \"number\",\n        \"std\": 316,\n        \"min\": 4,\n        \"max\": 2671,\n        \"num_unique_values\": 96,\n        \"samples\": [\n          91,\n          241,\n          27\n        ],\n        \"semantic_type\": \"\",\n        \"description\": \"\"\n      }\n    },\n    {\n      \"column\": \"OTHER\",\n      \"properties\": {\n        \"dtype\": \"number\",\n        \"std\": 159,\n        \"min\": 0,\n        \"max\": 1628,\n        \"num_unique_values\": 58,\n        \"samples\": [\n          8,\n          9,\n          100\n        ],\n        \"semantic_type\": \"\",\n        \"description\": \"\"\n      }\n    },\n    {\n      \"column\": \"REPUBLICAN\",\n      \"properties\": {\n        \"dtype\": \"number\",\n        \"std\": 7341,\n        \"min\": 251,\n        \"max\": 56133,\n        \"num_unique_values\": 133,\n        \"samples\": [\n          2176,\n          302,\n          1006\n        ],\n        \"semantic_type\": \"\",\n        \"description\": \"\"\n      }\n    },\n    {\n      \"column\": \"total_votes\",\n      \"properties\": {\n        \"dtype\": \"number\",\n        \"std\": 22119,\n        \"min\": 510,\n        \"max\": 200413,\n        \"num_unique_values\": 130,\n        \"samples\": [\n          21984,\n          14556,\n          5428\n        ],\n        \"semantic_type\": \"\",\n        \"description\": \"\"\n      }\n    }\n  ]\n}"
            }
          },
          "metadata": {},
          "execution_count": 16
        }
      ]
    },
    {
      "cell_type": "markdown",
      "source": [
        "Following this, we noticed that some counties had a decimal figure for how many people voted for a party (probably due to the fact the original data was an estimate of the population). As such, we decided to convert the counties from strings to float values, after which we truncated the values by casting them to the integer type. Because the vote counts are so, losing a fraction of a voter would have limited impact on any predictions. Lastly, the various vote counts were then summed to create a new total count column.\n"
      ],
      "metadata": {
        "id": "KG0nAB1jzXgj"
      }
    },
    {
      "cell_type": "code",
      "source": [
        "cols_to_eval = []\n",
        "df_test = df_VA2020[:20]\n",
        "\n",
        "#Keeping the relevant information\n",
        "columns_keep = ['GISJOIN', 'YEAR', 'STATE', 'COUNTY', 'COUNTYA', 'AMPWE001', 'AMPWE002', 'AMPWE003', 'AMPWE004', 'AMPWE005', 'AMPWE006', 'AMPWE007', 'AMR8E001', 'AMRZE022', 'AMRZE001', 'AMZLE001', 'AMZLE002', 'AMZLE003']\n",
        "df_select_data = df_VA2020[columns_keep]\n",
        "\n",
        "#Renaming the variables for analysis\n",
        "col_names = {\n",
        "    'AMPWE001':'Total_Reporting_Race',\n",
        "    'AMPWE002':'White',\n",
        "    'AMPWE003':'African_American',\n",
        "    'AMPWE004': 'Indian_or_Alaska',\n",
        "    'AMPWE005': 'Asian',\n",
        "    'AMPWE006' : 'Pacific_Islander',\n",
        "    'AMPWE007' : 'Other',\n",
        "    'AMR8E001': 'Median_House_Income',\n",
        "    'AMRZE022': 'People_with_Bachelors',\n",
        "    'AMRZE001': 'Total_pop_asked_education',\n",
        "    'AMZLE001' : 'Total_reporting_lang_at_home',\n",
        "    'AMZLE002': 'English_in_home',\n",
        "    'AMZLE003': 'Spanish_in_home'\n",
        "}\n",
        "\n",
        "df_select_data.rename(columns= col_names , inplace=True)\n",
        "df_select_data['Other_lang_at_home'] = df_select_data['Total_reporting_lang_at_home'] - df_select_data['English_in_home'] - df_select_data['Spanish_in_home']\n"
      ],
      "metadata": {
        "id": "GlnCX_Ij76up",
        "outputId": "9b69daab-c8cb-4a03-9241-1e8c1a52546a",
        "colab": {
          "base_uri": "https://localhost:8080/"
        }
      },
      "execution_count": 20,
      "outputs": [
        {
          "output_type": "stream",
          "name": "stderr",
          "text": [
            "<ipython-input-20-477b406f7d5d>:25: SettingWithCopyWarning: \n",
            "A value is trying to be set on a copy of a slice from a DataFrame\n",
            "\n",
            "See the caveats in the documentation: https://pandas.pydata.org/pandas-docs/stable/user_guide/indexing.html#returning-a-view-versus-a-copy\n",
            "  df_select_data.rename(columns= col_names , inplace=True)\n",
            "<ipython-input-20-477b406f7d5d>:26: SettingWithCopyWarning: \n",
            "A value is trying to be set on a copy of a slice from a DataFrame.\n",
            "Try using .loc[row_indexer,col_indexer] = value instead\n",
            "\n",
            "See the caveats in the documentation: https://pandas.pydata.org/pandas-docs/stable/user_guide/indexing.html#returning-a-view-versus-a-copy\n",
            "  df_select_data['Other_lang_at_home'] = df_select_data['Total_reporting_lang_at_home'] - df_select_data['English_in_home'] - df_select_data['Spanish_in_home']\n"
          ]
        }
      ]
    },
    {
      "cell_type": "markdown",
      "source": [
        "Finally, we max - min adjusted the variables to that we could run a knn model and get our predictions."
      ],
      "metadata": {
        "id": "XFh3a0AM8kTb"
      }
    },
    {
      "cell_type": "code",
      "source": [
        "df_Votes_party['net_votes'] = df_Votes_party['DEMOCRAT'] - df_Votes_party['REPUBLICAN']\n",
        "def max_min_normalization(column):\n",
        "    \"\"\"Apply max-min normalization to a Pandas Series.\"\"\"\n",
        "    return (column - column.min()) / (column.max() - column.min())"
      ],
      "metadata": {
        "id": "So4tYOMf8uxt"
      },
      "execution_count": 25,
      "outputs": []
    },
    {
      "cell_type": "markdown",
      "source": [
        "The final form of the data prior to the analysis is highlighted in the table below."
      ],
      "metadata": {
        "id": "jx1mltj888FD"
      }
    },
    {
      "cell_type": "code",
      "source": [
        "df_select_data['county_name'] = df_select_data['COUNTY'].str.upper().str.replace(' COUNTY', '', regex=False)\n",
        "\n",
        "#Merging df_votes and df_select on the 'county_name' column\n",
        "df_merged = pd.merge(df_Votes_party, df_select_data, on='county_name', how='inner')\n",
        "\n",
        "# Displaying merged df\n",
        "df_merged.head()"
      ],
      "metadata": {
        "id": "yETWhbJR9CwB",
        "outputId": "40a4ecee-55c8-420d-adcf-4ebcf4b61b70",
        "colab": {
          "base_uri": "https://localhost:8080/",
          "height": 446
        }
      },
      "execution_count": 26,
      "outputs": [
        {
          "output_type": "stream",
          "name": "stderr",
          "text": [
            "<ipython-input-26-a9ec6b6e9577>:1: SettingWithCopyWarning: \n",
            "A value is trying to be set on a copy of a slice from a DataFrame.\n",
            "Try using .loc[row_indexer,col_indexer] = value instead\n",
            "\n",
            "See the caveats in the documentation: https://pandas.pydata.org/pandas-docs/stable/user_guide/indexing.html#returning-a-view-versus-a-copy\n",
            "  df_select_data['county_name'] = df_select_data['COUNTY'].str.upper().str.replace(' COUNTY', '', regex=False)\n"
          ]
        },
        {
          "output_type": "execute_result",
          "data": {
            "text/plain": [
              "       county_name  DEMOCRAT  LIBERTARIAN  OTHER  REPUBLICAN  total_votes  \\\n",
              "0         ACCOMACK      2526           62      8        3057         5653   \n",
              "1        ALBEMARLE     14155          338    124        6934        21551   \n",
              "2  ALEXANDRIA CITY     22080          340    238        4848        27506   \n",
              "3        ALLEGHANY       747           29      4        1953         2733   \n",
              "4           AMELIA       803           26      4        1796         2629   \n",
              "\n",
              "   net_votes   GISJOIN       YEAR     STATE  ...  Asian Pacific_Islander  \\\n",
              "0       -531  G5100010  2016-2020  Virginia  ...    244                0   \n",
              "1       7221  G5100030  2016-2020  Virginia  ...   5981               48   \n",
              "2      17232  G5105100  2016-2020  Virginia  ...  10588               91   \n",
              "3      -1206  G5100050  2016-2020  Virginia  ...     10                0   \n",
              "4       -993  G5100070  2016-2020  Virginia  ...      1                0   \n",
              "\n",
              "  Other Median_House_Income People_with_Bachelors Total_pop_asked_education  \\\n",
              "0   154             46178.0                  2697                     23813   \n",
              "1   989             84643.0                 22495                     73818   \n",
              "2  8565            102227.0                 37466                    119957   \n",
              "3    64             48513.0                   943                     11155   \n",
              "4     0             63918.0                  1046                      9270   \n",
              "\n",
              "  Total_reporting_lang_at_home English_in_home Spanish_in_home  \\\n",
              "0                        13641           12355             679   \n",
              "1                        42381           37126            2058   \n",
              "2                        71289           50347            7869   \n",
              "3                         6529            6376              89   \n",
              "4                         5034            4799             206   \n",
              "\n",
              "  Other_lang_at_home  \n",
              "0                607  \n",
              "1               3197  \n",
              "2              13073  \n",
              "3                 64  \n",
              "4                 29  \n",
              "\n",
              "[5 rows x 26 columns]"
            ],
            "text/html": [
              "\n",
              "  <div id=\"df-f175ddcb-2690-4ade-9ba2-97f2caebba05\" class=\"colab-df-container\">\n",
              "    <div>\n",
              "<style scoped>\n",
              "    .dataframe tbody tr th:only-of-type {\n",
              "        vertical-align: middle;\n",
              "    }\n",
              "\n",
              "    .dataframe tbody tr th {\n",
              "        vertical-align: top;\n",
              "    }\n",
              "\n",
              "    .dataframe thead th {\n",
              "        text-align: right;\n",
              "    }\n",
              "</style>\n",
              "<table border=\"1\" class=\"dataframe\">\n",
              "  <thead>\n",
              "    <tr style=\"text-align: right;\">\n",
              "      <th></th>\n",
              "      <th>county_name</th>\n",
              "      <th>DEMOCRAT</th>\n",
              "      <th>LIBERTARIAN</th>\n",
              "      <th>OTHER</th>\n",
              "      <th>REPUBLICAN</th>\n",
              "      <th>total_votes</th>\n",
              "      <th>net_votes</th>\n",
              "      <th>GISJOIN</th>\n",
              "      <th>YEAR</th>\n",
              "      <th>STATE</th>\n",
              "      <th>...</th>\n",
              "      <th>Asian</th>\n",
              "      <th>Pacific_Islander</th>\n",
              "      <th>Other</th>\n",
              "      <th>Median_House_Income</th>\n",
              "      <th>People_with_Bachelors</th>\n",
              "      <th>Total_pop_asked_education</th>\n",
              "      <th>Total_reporting_lang_at_home</th>\n",
              "      <th>English_in_home</th>\n",
              "      <th>Spanish_in_home</th>\n",
              "      <th>Other_lang_at_home</th>\n",
              "    </tr>\n",
              "  </thead>\n",
              "  <tbody>\n",
              "    <tr>\n",
              "      <th>0</th>\n",
              "      <td>ACCOMACK</td>\n",
              "      <td>2526</td>\n",
              "      <td>62</td>\n",
              "      <td>8</td>\n",
              "      <td>3057</td>\n",
              "      <td>5653</td>\n",
              "      <td>-531</td>\n",
              "      <td>G5100010</td>\n",
              "      <td>2016-2020</td>\n",
              "      <td>Virginia</td>\n",
              "      <td>...</td>\n",
              "      <td>244</td>\n",
              "      <td>0</td>\n",
              "      <td>154</td>\n",
              "      <td>46178.0</td>\n",
              "      <td>2697</td>\n",
              "      <td>23813</td>\n",
              "      <td>13641</td>\n",
              "      <td>12355</td>\n",
              "      <td>679</td>\n",
              "      <td>607</td>\n",
              "    </tr>\n",
              "    <tr>\n",
              "      <th>1</th>\n",
              "      <td>ALBEMARLE</td>\n",
              "      <td>14155</td>\n",
              "      <td>338</td>\n",
              "      <td>124</td>\n",
              "      <td>6934</td>\n",
              "      <td>21551</td>\n",
              "      <td>7221</td>\n",
              "      <td>G5100030</td>\n",
              "      <td>2016-2020</td>\n",
              "      <td>Virginia</td>\n",
              "      <td>...</td>\n",
              "      <td>5981</td>\n",
              "      <td>48</td>\n",
              "      <td>989</td>\n",
              "      <td>84643.0</td>\n",
              "      <td>22495</td>\n",
              "      <td>73818</td>\n",
              "      <td>42381</td>\n",
              "      <td>37126</td>\n",
              "      <td>2058</td>\n",
              "      <td>3197</td>\n",
              "    </tr>\n",
              "    <tr>\n",
              "      <th>2</th>\n",
              "      <td>ALEXANDRIA CITY</td>\n",
              "      <td>22080</td>\n",
              "      <td>340</td>\n",
              "      <td>238</td>\n",
              "      <td>4848</td>\n",
              "      <td>27506</td>\n",
              "      <td>17232</td>\n",
              "      <td>G5105100</td>\n",
              "      <td>2016-2020</td>\n",
              "      <td>Virginia</td>\n",
              "      <td>...</td>\n",
              "      <td>10588</td>\n",
              "      <td>91</td>\n",
              "      <td>8565</td>\n",
              "      <td>102227.0</td>\n",
              "      <td>37466</td>\n",
              "      <td>119957</td>\n",
              "      <td>71289</td>\n",
              "      <td>50347</td>\n",
              "      <td>7869</td>\n",
              "      <td>13073</td>\n",
              "    </tr>\n",
              "    <tr>\n",
              "      <th>3</th>\n",
              "      <td>ALLEGHANY</td>\n",
              "      <td>747</td>\n",
              "      <td>29</td>\n",
              "      <td>4</td>\n",
              "      <td>1953</td>\n",
              "      <td>2733</td>\n",
              "      <td>-1206</td>\n",
              "      <td>G5100050</td>\n",
              "      <td>2016-2020</td>\n",
              "      <td>Virginia</td>\n",
              "      <td>...</td>\n",
              "      <td>10</td>\n",
              "      <td>0</td>\n",
              "      <td>64</td>\n",
              "      <td>48513.0</td>\n",
              "      <td>943</td>\n",
              "      <td>11155</td>\n",
              "      <td>6529</td>\n",
              "      <td>6376</td>\n",
              "      <td>89</td>\n",
              "      <td>64</td>\n",
              "    </tr>\n",
              "    <tr>\n",
              "      <th>4</th>\n",
              "      <td>AMELIA</td>\n",
              "      <td>803</td>\n",
              "      <td>26</td>\n",
              "      <td>4</td>\n",
              "      <td>1796</td>\n",
              "      <td>2629</td>\n",
              "      <td>-993</td>\n",
              "      <td>G5100070</td>\n",
              "      <td>2016-2020</td>\n",
              "      <td>Virginia</td>\n",
              "      <td>...</td>\n",
              "      <td>1</td>\n",
              "      <td>0</td>\n",
              "      <td>0</td>\n",
              "      <td>63918.0</td>\n",
              "      <td>1046</td>\n",
              "      <td>9270</td>\n",
              "      <td>5034</td>\n",
              "      <td>4799</td>\n",
              "      <td>206</td>\n",
              "      <td>29</td>\n",
              "    </tr>\n",
              "  </tbody>\n",
              "</table>\n",
              "<p>5 rows × 26 columns</p>\n",
              "</div>\n",
              "    <div class=\"colab-df-buttons\">\n",
              "\n",
              "  <div class=\"colab-df-container\">\n",
              "    <button class=\"colab-df-convert\" onclick=\"convertToInteractive('df-f175ddcb-2690-4ade-9ba2-97f2caebba05')\"\n",
              "            title=\"Convert this dataframe to an interactive table.\"\n",
              "            style=\"display:none;\">\n",
              "\n",
              "  <svg xmlns=\"http://www.w3.org/2000/svg\" height=\"24px\" viewBox=\"0 -960 960 960\">\n",
              "    <path d=\"M120-120v-720h720v720H120Zm60-500h600v-160H180v160Zm220 220h160v-160H400v160Zm0 220h160v-160H400v160ZM180-400h160v-160H180v160Zm440 0h160v-160H620v160ZM180-180h160v-160H180v160Zm440 0h160v-160H620v160Z\"/>\n",
              "  </svg>\n",
              "    </button>\n",
              "\n",
              "  <style>\n",
              "    .colab-df-container {\n",
              "      display:flex;\n",
              "      gap: 12px;\n",
              "    }\n",
              "\n",
              "    .colab-df-convert {\n",
              "      background-color: #E8F0FE;\n",
              "      border: none;\n",
              "      border-radius: 50%;\n",
              "      cursor: pointer;\n",
              "      display: none;\n",
              "      fill: #1967D2;\n",
              "      height: 32px;\n",
              "      padding: 0 0 0 0;\n",
              "      width: 32px;\n",
              "    }\n",
              "\n",
              "    .colab-df-convert:hover {\n",
              "      background-color: #E2EBFA;\n",
              "      box-shadow: 0px 1px 2px rgba(60, 64, 67, 0.3), 0px 1px 3px 1px rgba(60, 64, 67, 0.15);\n",
              "      fill: #174EA6;\n",
              "    }\n",
              "\n",
              "    .colab-df-buttons div {\n",
              "      margin-bottom: 4px;\n",
              "    }\n",
              "\n",
              "    [theme=dark] .colab-df-convert {\n",
              "      background-color: #3B4455;\n",
              "      fill: #D2E3FC;\n",
              "    }\n",
              "\n",
              "    [theme=dark] .colab-df-convert:hover {\n",
              "      background-color: #434B5C;\n",
              "      box-shadow: 0px 1px 3px 1px rgba(0, 0, 0, 0.15);\n",
              "      filter: drop-shadow(0px 1px 2px rgba(0, 0, 0, 0.3));\n",
              "      fill: #FFFFFF;\n",
              "    }\n",
              "  </style>\n",
              "\n",
              "    <script>\n",
              "      const buttonEl =\n",
              "        document.querySelector('#df-f175ddcb-2690-4ade-9ba2-97f2caebba05 button.colab-df-convert');\n",
              "      buttonEl.style.display =\n",
              "        google.colab.kernel.accessAllowed ? 'block' : 'none';\n",
              "\n",
              "      async function convertToInteractive(key) {\n",
              "        const element = document.querySelector('#df-f175ddcb-2690-4ade-9ba2-97f2caebba05');\n",
              "        const dataTable =\n",
              "          await google.colab.kernel.invokeFunction('convertToInteractive',\n",
              "                                                    [key], {});\n",
              "        if (!dataTable) return;\n",
              "\n",
              "        const docLinkHtml = 'Like what you see? Visit the ' +\n",
              "          '<a target=\"_blank\" href=https://colab.research.google.com/notebooks/data_table.ipynb>data table notebook</a>'\n",
              "          + ' to learn more about interactive tables.';\n",
              "        element.innerHTML = '';\n",
              "        dataTable['output_type'] = 'display_data';\n",
              "        await google.colab.output.renderOutput(dataTable, element);\n",
              "        const docLink = document.createElement('div');\n",
              "        docLink.innerHTML = docLinkHtml;\n",
              "        element.appendChild(docLink);\n",
              "      }\n",
              "    </script>\n",
              "  </div>\n",
              "\n",
              "\n",
              "<div id=\"df-ef7ca2e5-78a6-4bbb-8bad-d61a26273a5a\">\n",
              "  <button class=\"colab-df-quickchart\" onclick=\"quickchart('df-ef7ca2e5-78a6-4bbb-8bad-d61a26273a5a')\"\n",
              "            title=\"Suggest charts\"\n",
              "            style=\"display:none;\">\n",
              "\n",
              "<svg xmlns=\"http://www.w3.org/2000/svg\" height=\"24px\"viewBox=\"0 0 24 24\"\n",
              "     width=\"24px\">\n",
              "    <g>\n",
              "        <path d=\"M19 3H5c-1.1 0-2 .9-2 2v14c0 1.1.9 2 2 2h14c1.1 0 2-.9 2-2V5c0-1.1-.9-2-2-2zM9 17H7v-7h2v7zm4 0h-2V7h2v10zm4 0h-2v-4h2v4z\"/>\n",
              "    </g>\n",
              "</svg>\n",
              "  </button>\n",
              "\n",
              "<style>\n",
              "  .colab-df-quickchart {\n",
              "      --bg-color: #E8F0FE;\n",
              "      --fill-color: #1967D2;\n",
              "      --hover-bg-color: #E2EBFA;\n",
              "      --hover-fill-color: #174EA6;\n",
              "      --disabled-fill-color: #AAA;\n",
              "      --disabled-bg-color: #DDD;\n",
              "  }\n",
              "\n",
              "  [theme=dark] .colab-df-quickchart {\n",
              "      --bg-color: #3B4455;\n",
              "      --fill-color: #D2E3FC;\n",
              "      --hover-bg-color: #434B5C;\n",
              "      --hover-fill-color: #FFFFFF;\n",
              "      --disabled-bg-color: #3B4455;\n",
              "      --disabled-fill-color: #666;\n",
              "  }\n",
              "\n",
              "  .colab-df-quickchart {\n",
              "    background-color: var(--bg-color);\n",
              "    border: none;\n",
              "    border-radius: 50%;\n",
              "    cursor: pointer;\n",
              "    display: none;\n",
              "    fill: var(--fill-color);\n",
              "    height: 32px;\n",
              "    padding: 0;\n",
              "    width: 32px;\n",
              "  }\n",
              "\n",
              "  .colab-df-quickchart:hover {\n",
              "    background-color: var(--hover-bg-color);\n",
              "    box-shadow: 0 1px 2px rgba(60, 64, 67, 0.3), 0 1px 3px 1px rgba(60, 64, 67, 0.15);\n",
              "    fill: var(--button-hover-fill-color);\n",
              "  }\n",
              "\n",
              "  .colab-df-quickchart-complete:disabled,\n",
              "  .colab-df-quickchart-complete:disabled:hover {\n",
              "    background-color: var(--disabled-bg-color);\n",
              "    fill: var(--disabled-fill-color);\n",
              "    box-shadow: none;\n",
              "  }\n",
              "\n",
              "  .colab-df-spinner {\n",
              "    border: 2px solid var(--fill-color);\n",
              "    border-color: transparent;\n",
              "    border-bottom-color: var(--fill-color);\n",
              "    animation:\n",
              "      spin 1s steps(1) infinite;\n",
              "  }\n",
              "\n",
              "  @keyframes spin {\n",
              "    0% {\n",
              "      border-color: transparent;\n",
              "      border-bottom-color: var(--fill-color);\n",
              "      border-left-color: var(--fill-color);\n",
              "    }\n",
              "    20% {\n",
              "      border-color: transparent;\n",
              "      border-left-color: var(--fill-color);\n",
              "      border-top-color: var(--fill-color);\n",
              "    }\n",
              "    30% {\n",
              "      border-color: transparent;\n",
              "      border-left-color: var(--fill-color);\n",
              "      border-top-color: var(--fill-color);\n",
              "      border-right-color: var(--fill-color);\n",
              "    }\n",
              "    40% {\n",
              "      border-color: transparent;\n",
              "      border-right-color: var(--fill-color);\n",
              "      border-top-color: var(--fill-color);\n",
              "    }\n",
              "    60% {\n",
              "      border-color: transparent;\n",
              "      border-right-color: var(--fill-color);\n",
              "    }\n",
              "    80% {\n",
              "      border-color: transparent;\n",
              "      border-right-color: var(--fill-color);\n",
              "      border-bottom-color: var(--fill-color);\n",
              "    }\n",
              "    90% {\n",
              "      border-color: transparent;\n",
              "      border-bottom-color: var(--fill-color);\n",
              "    }\n",
              "  }\n",
              "</style>\n",
              "\n",
              "  <script>\n",
              "    async function quickchart(key) {\n",
              "      const quickchartButtonEl =\n",
              "        document.querySelector('#' + key + ' button');\n",
              "      quickchartButtonEl.disabled = true;  // To prevent multiple clicks.\n",
              "      quickchartButtonEl.classList.add('colab-df-spinner');\n",
              "      try {\n",
              "        const charts = await google.colab.kernel.invokeFunction(\n",
              "            'suggestCharts', [key], {});\n",
              "      } catch (error) {\n",
              "        console.error('Error during call to suggestCharts:', error);\n",
              "      }\n",
              "      quickchartButtonEl.classList.remove('colab-df-spinner');\n",
              "      quickchartButtonEl.classList.add('colab-df-quickchart-complete');\n",
              "    }\n",
              "    (() => {\n",
              "      let quickchartButtonEl =\n",
              "        document.querySelector('#df-ef7ca2e5-78a6-4bbb-8bad-d61a26273a5a button');\n",
              "      quickchartButtonEl.style.display =\n",
              "        google.colab.kernel.accessAllowed ? 'block' : 'none';\n",
              "    })();\n",
              "  </script>\n",
              "</div>\n",
              "\n",
              "    </div>\n",
              "  </div>\n"
            ],
            "application/vnd.google.colaboratory.intrinsic+json": {
              "type": "dataframe",
              "variable_name": "df_merged"
            }
          },
          "metadata": {},
          "execution_count": 26
        }
      ]
    },
    {
      "cell_type": "markdown",
      "source": [
        "**Results**"
      ],
      "metadata": {
        "id": "l79WhNQrzuPj"
      }
    },
    {
      "cell_type": "markdown",
      "source": [
        "To predict the election within the state of virginia for 2024, we decided to go with a KNN model. Specifically using the variables like Median household income and people with bachelors we were able to predict the outcome more accurately.  "
      ],
      "metadata": {
        "id": "yVWpGeA-9ETS"
      }
    },
    {
      "cell_type": "code",
      "source": [
        "# Normalizing the variables to use in the KNN model\n",
        "features_to_normalize = ['Median_House_Income', 'Total_Reporting_Race', 'People_with_Bachelors']\n",
        "for feature in features_to_normalize:\n",
        "    df_merged[feature] = max_min_normalization(df_merged[feature])"
      ],
      "metadata": {
        "id": "WypLmgYH9EGe"
      },
      "execution_count": 27,
      "outputs": []
    },
    {
      "cell_type": "code",
      "source": [
        "X_normalized = df_merged[features_to_normalize].values\n",
        "y = df_merged['net_votes'].values\n",
        "\n",
        "# Splitting the data\n",
        "X_train_norm, X_test_norm, y_train, y_test = train_test_split(X_normalized, y, test_size=0.2, random_state=42)"
      ],
      "metadata": {
        "id": "qz1BSvbT97E9"
      },
      "execution_count": 28,
      "outputs": []
    },
    {
      "cell_type": "code",
      "source": [
        "def evaluate_k_values(X, y, k_values):\n",
        "    mse_scores = []\n",
        "    for k in k_values:\n",
        "        knn = KNeighborsRegressor(n_neighbors=k)\n",
        "        scores = cross_val_score(knn, X, y, scoring='neg_mean_squared_error', cv=5)\n",
        "        mse_scores.append(np.mean(np.abs(scores)))  # Converting scores to positive MSE values\n",
        "    return mse_scores"
      ],
      "metadata": {
        "id": "QicJrQU899jt"
      },
      "execution_count": 29,
      "outputs": []
    },
    {
      "cell_type": "markdown",
      "source": [
        "With the KNN model, we had to find the optimal k-value to reduce the mean squared error in the model without overfitting it to the test data."
      ],
      "metadata": {
        "id": "iX1fHP4N-TMI"
      }
    },
    {
      "cell_type": "code",
      "source": [
        "k_values = range(1, 31)\n",
        "\n",
        "# Evaluating MSE for each k-value\n",
        "mse_scores = evaluate_k_values(X_train_norm, y_train, k_values)\n",
        "\n",
        "# Finding the optimal k with the lowest MSE\n",
        "optimal_k = k_values[np.argmin(mse_scores)]\n",
        "optimal_k, mse_scores"
      ],
      "metadata": {
        "id": "7bTnKxQw-fAH",
        "outputId": "902cdf26-65b7-45cf-c88f-46d4989e8059",
        "colab": {
          "base_uri": "https://localhost:8080/"
        }
      },
      "execution_count": 30,
      "outputs": [
        {
          "output_type": "execute_result",
          "data": {
            "text/plain": [
              "(2,\n",
              " [59202641.22164502,\n",
              "  54184041.16417749,\n",
              "  62860008.5948052,\n",
              "  63412320.93457793,\n",
              "  68400672.67960171,\n",
              "  72880615.58252767,\n",
              "  71255811.77657919,\n",
              "  69977767.74191694,\n",
              "  73224200.19723691,\n",
              "  74022147.21366233,\n",
              "  75529345.63860326,\n",
              "  77195206.65926827,\n",
              "  79291678.58433105,\n",
              "  80016579.06311955,\n",
              "  81466398.70196827,\n",
              "  82957986.78797181,\n",
              "  83730857.20088378,\n",
              "  83757387.28866042,\n",
              "  84830152.84600016,\n",
              "  85604865.31973055,\n",
              "  86654150.77252701,\n",
              "  87536887.31503256,\n",
              "  88504332.96080819,\n",
              "  89055671.93304096,\n",
              "  89698483.69637887,\n",
              "  90112676.32630959,\n",
              "  90387387.35187264,\n",
              "  90165434.9802307,\n",
              "  90425648.54297142,\n",
              "  90166488.2209091])"
            ]
          },
          "metadata": {},
          "execution_count": 30
        }
      ]
    },
    {
      "cell_type": "markdown",
      "source": [
        "With this we can run our KNN model. Using our training data, we found that we can predict whether a country will be democratic or republican with a 74% accuracy rate.\n"
      ],
      "metadata": {
        "id": "ofk6bS3h-jmb"
      }
    },
    {
      "cell_type": "code",
      "source": [
        "#labels 1 for democrat and 0 for republican\n",
        "df_merged['actual_label'] = (df_merged['net_votes'] > 0).astype(int)\n",
        "\n",
        "# verifying optimal k value\n",
        "knn = KNeighborsRegressor(n_neighbors=2)\n",
        "knn.fit(X_train_norm, y_train)\n",
        "\n",
        "# Finding the predicted net votes for the test set\n",
        "predicted_net_votes = knn.predict(X_test_norm)\n",
        "\n",
        "# Convert the predictions back into binary codes\n",
        "predicted_labels = (predicted_net_votes > 0).astype(int)\n",
        "\n",
        "actual_labels = (y_test > 0).astype(int)\n",
        "\n",
        "# Count correct and incorrect predictions\n",
        "correct_predictions = np.sum(predicted_labels == actual_labels)\n",
        "incorrect_predictions = len(predicted_labels) - correct_predictions\n",
        "\n",
        "correct_predictions, incorrect_predictions\n",
        "print(\"Accuracy: \", (correct_predictions)/(correct_predictions + incorrect_predictions))"
      ],
      "metadata": {
        "id": "6qn_S407-jUe",
        "outputId": "9072a274-4058-4ab3-804f-c1dbb9d7de44",
        "colab": {
          "base_uri": "https://localhost:8080/"
        }
      },
      "execution_count": 40,
      "outputs": [
        {
          "output_type": "stream",
          "name": "stdout",
          "text": [
            "Accuracy:  0.7407407407407407\n"
          ]
        }
      ]
    },
    {
      "cell_type": "markdown",
      "source": [
        "It must be noted here that the data used was from the 2020 elections. It does not completly represent what will occur in 2024. More generally we know that people's opinions are becoming more and more polarized by party and there is less switching occuring by candidate."
      ],
      "metadata": {
        "id": "umDMFyro_GJP"
      }
    },
    {
      "cell_type": "markdown",
      "source": [
        "Further analyzing our results with a confusion matrix we can see the 15/20 of our actual voting republicans, were predicted as such. Furthermore, 5/7 of our actual democrats were predicted as such. This 75% and 71% accuracy further highlights the ability of the model to use people's demographics to correctly identify the overall county level vote.\n",
        "\n",
        "However, there is still some areas for improvement as the 7 counties were predicted wrong out of just 27. This would be enough to sway an election or the overall vote of a state. Further highlights how we can't be fully reliant on the output of this model's predictions."
      ],
      "metadata": {
        "id": "QeIoj45X_1UD"
      }
    },
    {
      "cell_type": "code",
      "source": [
        "# Generate statistics\n",
        "print(\"Classification Report:\")\n",
        "print(classification_report(actual_labels, predicted_labels))\n",
        "\n",
        "# Show confusion matrix\n",
        "cm = confusion_matrix(actual_labels, predicted_labels)\n",
        "plt.figure(figsize=(8, 6))\n",
        "sns.heatmap(cm, annot=True, fmt='d', cmap='Blues', xticklabels=['Republican', 'Democrat'], yticklabels=['Republican', 'Democrat'])\n",
        "plt.xlabel('Predicted Labels')\n",
        "plt.ylabel('Actual Labels')\n",
        "plt.title('Confusion Matrix')\n",
        "plt.show()"
      ],
      "metadata": {
        "id": "xnncb4_VAsY1",
        "outputId": "dcfaf5c9-ea5a-465a-f99b-bc053f88e0ce",
        "colab": {
          "base_uri": "https://localhost:8080/",
          "height": 228
        }
      },
      "execution_count": 45,
      "outputs": [
        {
          "output_type": "stream",
          "name": "stdout",
          "text": [
            "Classification Report:\n"
          ]
        },
        {
          "output_type": "error",
          "ename": "NameError",
          "evalue": "name 'classification_report' is not defined",
          "traceback": [
            "\u001b[0;31m---------------------------------------------------------------------------\u001b[0m",
            "\u001b[0;31mNameError\u001b[0m                                 Traceback (most recent call last)",
            "\u001b[0;32m<ipython-input-45-3d1f714a745d>\u001b[0m in \u001b[0;36m<cell line: 3>\u001b[0;34m()\u001b[0m\n\u001b[1;32m      1\u001b[0m \u001b[0;31m# Generate statistics\u001b[0m\u001b[0;34m\u001b[0m\u001b[0;34m\u001b[0m\u001b[0m\n\u001b[1;32m      2\u001b[0m \u001b[0mprint\u001b[0m\u001b[0;34m(\u001b[0m\u001b[0;34m\"Classification Report:\"\u001b[0m\u001b[0;34m)\u001b[0m\u001b[0;34m\u001b[0m\u001b[0;34m\u001b[0m\u001b[0m\n\u001b[0;32m----> 3\u001b[0;31m \u001b[0mprint\u001b[0m\u001b[0;34m(\u001b[0m\u001b[0mclassification_report\u001b[0m\u001b[0;34m(\u001b[0m\u001b[0mactual_labels\u001b[0m\u001b[0;34m,\u001b[0m \u001b[0mpredicted_labels\u001b[0m\u001b[0;34m)\u001b[0m\u001b[0;34m)\u001b[0m\u001b[0;34m\u001b[0m\u001b[0;34m\u001b[0m\u001b[0m\n\u001b[0m\u001b[1;32m      4\u001b[0m \u001b[0;34m\u001b[0m\u001b[0m\n\u001b[1;32m      5\u001b[0m \u001b[0;31m# Show confusion matrix\u001b[0m\u001b[0;34m\u001b[0m\u001b[0;34m\u001b[0m\u001b[0m\n",
            "\u001b[0;31mNameError\u001b[0m: name 'classification_report' is not defined"
          ]
        }
      ]
    },
    {
      "cell_type": "markdown",
      "source": [
        "**Conclusion**"
      ],
      "metadata": {
        "id": "TmLpFMizz0Nn"
      }
    },
    {
      "cell_type": "markdown",
      "source": [
        "FINISH"
      ],
      "metadata": {
        "id": "Rglrs0uhz-Uu"
      }
    }
  ]
}