{
  "nbformat": 4,
  "nbformat_minor": 0,
  "metadata": {
    "colab": {
      "provenance": [],
      "include_colab_link": true
    },
    "kernelspec": {
      "name": "python3",
      "display_name": "Python 3"
    },
    "language_info": {
      "name": "python"
    }
  },
  "cells": [
    {
      "cell_type": "markdown",
      "metadata": {
        "id": "view-in-github",
        "colab_type": "text"
      },
      "source": [
        "<a href=\"https://colab.research.google.com/github/dha5sm/project_voting/blob/main/Write_up_project_voiting.ipynb\" target=\"_parent\"><img src=\"https://colab.research.google.com/assets/colab-badge.svg\" alt=\"Open In Colab\"/></a>"
      ]
    },
    {
      "cell_type": "markdown",
      "source": [
        "**Summary**"
      ],
      "metadata": {
        "id": "W35DFEM1zatg"
      }
    },
    {
      "cell_type": "markdown",
      "source": [
        "FINISH"
      ],
      "metadata": {
        "id": "LaVus5CUzavz"
      }
    },
    {
      "cell_type": "markdown",
      "source": [
        "**Data**"
      ],
      "metadata": {
        "id": "SbMfzzaQzLrL"
      }
    },
    {
      "cell_type": "markdown",
      "source": [
        "To prepare the data for analysis we first scanned over the csv files contained within the “county_data” folder. We filtered out the demographic estimates within this folder to include only those from the years 2016 - 2020. Subsequently, we then worked to combine these separate dataframes into one main demographics data frame using the ‘GISJOIN’ field. This data table included all the demographic data for each county over the time period. We then filtered this data further to include only counties with the state code VA. The result was one demographics dataframe that contained data on every county in Virginia.\n"
      ],
      "metadata": {
        "id": "8vFXxcDCzPYb"
      }
    },
    {
      "cell_type": "markdown",
      "source": [
        "Next, we worked to filter all the demographic data, selecting key fields in each county related to: Race, median household income, education status, and the frequency with which different languages are spoken at home. In consultation with the codebook, the variable names were identified and cleaned to have new, more easily understandable names.\n",
        "\n"
      ],
      "metadata": {
        "id": "7AfVX0hEzRyX"
      }
    },
    {
      "cell_type": "markdown",
      "source": [
        "With that table in hand, we then worked to create a table with all the voting data by county in Virginia for the most recent election. This involved taking the original voting table and filtering by the most recent election. Because the same democratic and republican candidate are up for election, we determined this to be the most relevant years.\n"
      ],
      "metadata": {
        "id": "0IZUEEeyzUW2"
      }
    },
    {
      "cell_type": "markdown",
      "source": [
        "Next, for each county in the table there were 4 rows that displayed vote count by 4 parties: Democrat, Republican, Green, and Other. We believed this data would be more usable if for every county in Virginia there was one single row, instead of four, that contained a column showcasing how many votes each party received. The pivot table operation was used to accomplish this task.\n"
      ],
      "metadata": {
        "id": "Ki24qhKRzW5O"
      }
    },
    {
      "cell_type": "markdown",
      "source": [
        "Following this, we noticed that some counties had a decimal figure for how many people voted for a party (probably due to the fact the original data was an estimate of the population). As such, we decided to convert the counties from strings to float values, after which we truncated the values by casting them to the integer type. Because the vote counts are so, losing a fraction of a voter would have limited impact on any predictions. Lastly, the various vote counts were then summed to create a new total count column.\n"
      ],
      "metadata": {
        "id": "KG0nAB1jzXgj"
      }
    },
    {
      "cell_type": "markdown",
      "source": [
        "**Results**"
      ],
      "metadata": {
        "id": "l79WhNQrzuPj"
      }
    },
    {
      "cell_type": "markdown",
      "source": [
        "FINISH"
      ],
      "metadata": {
        "id": "102GIHYCzgN8"
      }
    },
    {
      "cell_type": "markdown",
      "source": [
        "**Conclusion**"
      ],
      "metadata": {
        "id": "TmLpFMizz0Nn"
      }
    },
    {
      "cell_type": "markdown",
      "source": [
        "FINISH"
      ],
      "metadata": {
        "id": "Rglrs0uhz-Uu"
      }
    },
    {
      "cell_type": "markdown",
      "source": [
        "**Appendix**"
      ],
      "metadata": {
        "id": "p7vdWZlNz-zt"
      }
    },
    {
      "cell_type": "markdown",
      "source": [
        "FINISH"
      ],
      "metadata": {
        "id": "QQeaF_sT0BD2"
      }
    }
  ]
}